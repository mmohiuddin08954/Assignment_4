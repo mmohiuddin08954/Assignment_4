{
  "cells": [
    {
      "cell_type": "markdown",
      "metadata": {
        "id": "tz_SAiwJWO76"
      },
      "source": [
        "Heapsort Implementation"
      ]
    },
    {
      "cell_type": "code",
      "execution_count": 1,
      "metadata": {
        "id": "Ni_SbkWjWIDm"
      },
      "outputs": [
        {
          "name": "stdout",
          "output_type": "stream",
          "text": [
            "Sorted array is: [5, 6, 7, 11, 12, 13]\n"
          ]
        }
      ],
      "source": [
        "# Function to heapify a subtree rooted at index i\n",
        "def heapify(arr, n, i):\n",
        "    largest = i  # Initialize largest as root\n",
        "    left = 2 * i + 1  # left = 2*i + 1\n",
        "    right = 2 * i + 2  # right = 2*i + 2\n",
        "\n",
        "    # If left child exists and is greater than root\n",
        "    if left < n and arr[left] > arr[largest]:\n",
        "        largest = left\n",
        "\n",
        "    # If right child exists and is greater than largest so far\n",
        "    if right < n and arr[right] > arr[largest]:\n",
        "        largest = right\n",
        "\n",
        "    # If largest is not root\n",
        "    if largest != i:\n",
        "        arr[i], arr[largest] = arr[largest], arr[i]  # swap\n",
        "\n",
        "        # Recursively heapify the affected subtree\n",
        "        heapify(arr, n, largest)\n",
        "\n",
        "# Main function to do Heapsort\n",
        "def heapsort(arr):\n",
        "    n = len(arr)\n",
        "\n",
        "    # Build a maxheap (rearrange the array)\n",
        "    for i in range(n//2 - 1, -1, -1):\n",
        "        heapify(arr, n, i)\n",
        "\n",
        "    # Extract elements one by one\n",
        "    for i in range(n-1, 0, -1):\n",
        "        arr[i], arr[0] = arr[0], arr[i]  # swap\n",
        "        heapify(arr, i, 0)\n",
        "\n",
        "# Example usage\n",
        "arr = [12, 11, 13, 5, 6, 7]\n",
        "heapsort(arr)\n",
        "print(\"Sorted array is:\", arr)"
      ]
    },
    {
      "cell_type": "markdown",
      "metadata": {
        "id": "d0cTal9NWYAw"
      },
      "source": [
        "Priority Queue Implementation using a Max-Heap"
      ]
    },
    {
      "cell_type": "code",
      "execution_count": 2,
      "metadata": {
        "id": "Fz2TInU6WhTS"
      },
      "outputs": [
        {
          "name": "stdout",
          "output_type": "stream",
          "text": [
            "Extracted Task ID: 2, Priority: 5\n"
          ]
        }
      ],
      "source": [
        "class Task:\n",
        "    def __init__(self, task_id, priority, arrival_time, deadline):\n",
        "        self.task_id = task_id\n",
        "        self.priority = priority\n",
        "        self.arrival_time = arrival_time\n",
        "        self.deadline = deadline\n",
        "\n",
        "    def __lt__(self, other):\n",
        "        return self.priority < other.priority  # Min-Heap based on priority\n",
        "\n",
        "class PriorityQueue:\n",
        "    def __init__(self):\n",
        "        self.heap = []\n",
        "\n",
        "    # Helper function to heapify from a given index\n",
        "    def heapify_up(self, index):\n",
        "        parent = (index - 1) // 2\n",
        "        if index > 0 and self.heap[index].priority > self.heap[parent].priority:\n",
        "            self.heap[index], self.heap[parent] = self.heap[parent], self.heap[index]\n",
        "            self.heapify_up(parent)\n",
        "\n",
        "    # Helper function to heapify down from a given index\n",
        "    def heapify_down(self, index):\n",
        "        left = 2 * index + 1\n",
        "        right = 2 * index + 2\n",
        "        largest = index\n",
        "\n",
        "        if left < len(self.heap) and self.heap[left].priority > self.heap[largest].priority:\n",
        "            largest = left\n",
        "\n",
        "        if right < len(self.heap) and self.heap[right].priority > self.heap[largest].priority:\n",
        "            largest = right\n",
        "\n",
        "        if largest != index:\n",
        "            self.heap[index], self.heap[largest] = self.heap[largest], self.heap[index]\n",
        "            self.heapify_down(largest)\n",
        "\n",
        "    def insert(self, task):\n",
        "        self.heap.append(task)\n",
        "        self.heapify_up(len(self.heap) - 1)\n",
        "\n",
        "    def extract_max(self):\n",
        "        if len(self.heap) == 0:\n",
        "            return None\n",
        "        if len(self.heap) == 1:\n",
        "            return self.heap.pop()\n",
        "\n",
        "        root = self.heap[0]\n",
        "        self.heap[0] = self.heap.pop()\n",
        "        self.heapify_down(0)\n",
        "        return root\n",
        "\n",
        "    def increase_key(self, task_id, new_priority):\n",
        "        for i, task in enumerate(self.heap):\n",
        "            if task.task_id == task_id:\n",
        "                if new_priority > task.priority:\n",
        "                    task.priority = new_priority\n",
        "                    self.heapify_up(i)\n",
        "                else:\n",
        "                    task.priority = new_priority\n",
        "                    self.heapify_down(i)\n",
        "                break\n",
        "\n",
        "    def is_empty(self):\n",
        "        return len(self.heap) == 0\n",
        "\n",
        "# Example usage\n",
        "pq = PriorityQueue()\n",
        "pq.insert(Task(1, 3, \"10:00\", \"12:00\"))\n",
        "pq.insert(Task(2, 5, \"10:05\", \"12:30\"))\n",
        "pq.insert(Task(3, 1, \"10:10\", \"12:45\"))\n",
        "\n",
        "# Extract max priority task\n",
        "max_task = pq.extract_max()\n",
        "print(f\"Extracted Task ID: {max_task.task_id}, Priority: {max_task.priority}\")\n",
        "\n",
        "# Modify task priority\n",
        "pq.increase_key(3, 6)"
      ]
    }
  ],
  "metadata": {
    "colab": {
      "private_outputs": true,
      "provenance": []
    },
    "kernelspec": {
      "display_name": "Python 3",
      "name": "python3"
    },
    "language_info": {
      "codemirror_mode": {
        "name": "ipython",
        "version": 3
      },
      "file_extension": ".py",
      "mimetype": "text/x-python",
      "name": "python",
      "nbconvert_exporter": "python",
      "pygments_lexer": "ipython3",
      "version": "3.12.2"
    }
  },
  "nbformat": 4,
  "nbformat_minor": 0
}
